{
 "cells": [
  {
   "cell_type": "code",
   "execution_count": 1,
   "metadata": {},
   "outputs": [],
   "source": [
    "import pandas as pd  \n",
    "import numpy as np\n",
    "import matplotlib.pyplot as plt\n",
    "from tqdm import tqdm\n",
    "tqdm.pandas(desc=\"progress-bar\")\n",
    "from gensim.models import Doc2Vec\n",
    "from gensim.models.doc2vec import TaggedDocument\n",
    "import multiprocessing\n",
    "from sklearn import utils\n",
    "from sklearn.model_selection import train_test_split\n",
    "from sklearn.linear_model import LogisticRegression\n",
    "plt.style.use('fivethirtyeight')\n",
    "import time\n",
    "import progressbar"
   ]
  },
  {
   "cell_type": "code",
   "execution_count": 2,
   "metadata": {},
   "outputs": [
    {
     "name": "stderr",
     "output_type": "stream",
     "text": [
      "/root/anaconda3/envs/py36/lib/python3.6/site-packages/numpy/lib/arraysetops.py:569: FutureWarning: elementwise comparison failed; returning scalar instead, but in the future will perform elementwise comparison\n",
      "  mask |= (ar1 == a)\n"
     ]
    },
    {
     "data": {
      "text/html": [
       "<div>\n",
       "<style scoped>\n",
       "    .dataframe tbody tr th:only-of-type {\n",
       "        vertical-align: middle;\n",
       "    }\n",
       "\n",
       "    .dataframe tbody tr th {\n",
       "        vertical-align: top;\n",
       "    }\n",
       "\n",
       "    .dataframe thead th {\n",
       "        text-align: right;\n",
       "    }\n",
       "</style>\n",
       "<table border=\"1\" class=\"dataframe\">\n",
       "  <thead>\n",
       "    <tr style=\"text-align: right;\">\n",
       "      <th></th>\n",
       "      <th>text</th>\n",
       "      <th>target</th>\n",
       "    </tr>\n",
       "  </thead>\n",
       "  <tbody>\n",
       "    <tr>\n",
       "      <th>0</th>\n",
       "      <td>awww bummer shoulda got david carr third day</td>\n",
       "      <td>0</td>\n",
       "    </tr>\n",
       "    <tr>\n",
       "      <th>1</th>\n",
       "      <td>upset updat facebook text might cri result sch...</td>\n",
       "      <td>0</td>\n",
       "    </tr>\n",
       "    <tr>\n",
       "      <th>2</th>\n",
       "      <td>dive mani time ball manag save rest go bound</td>\n",
       "      <td>0</td>\n",
       "    </tr>\n",
       "    <tr>\n",
       "      <th>3</th>\n",
       "      <td>whole bodi feel itchi like fire</td>\n",
       "      <td>0</td>\n",
       "    </tr>\n",
       "    <tr>\n",
       "      <th>4</th>\n",
       "      <td>behav mad see</td>\n",
       "      <td>0</td>\n",
       "    </tr>\n",
       "  </tbody>\n",
       "</table>\n",
       "</div>"
      ],
      "text/plain": [
       "                                                text  target\n",
       "0       awww bummer shoulda got david carr third day       0\n",
       "1  upset updat facebook text might cri result sch...       0\n",
       "2       dive mani time ball manag save rest go bound       0\n",
       "3                    whole bodi feel itchi like fire       0\n",
       "4                                      behav mad see       0"
      ]
     },
     "execution_count": 2,
     "metadata": {},
     "output_type": "execute_result"
    }
   ],
   "source": [
    "csv = 'lib/clean_text.csv'\n",
    "my_df = pd.read_csv(csv,index_col=0)\n",
    "my_df.head()"
   ]
  },
  {
   "cell_type": "code",
   "execution_count": 3,
   "metadata": {},
   "outputs": [
    {
     "name": "stdout",
     "output_type": "stream",
     "text": [
      "<class 'pandas.core.frame.DataFrame'>\n",
      "RangeIndex: 1620947 entries, 0 to 1620946\n",
      "Data columns (total 2 columns):\n",
      "text      1620947 non-null object\n",
      "target    1620947 non-null int64\n",
      "dtypes: int64(1), object(1)\n",
      "memory usage: 24.7+ MB\n"
     ]
    }
   ],
   "source": [
    "my_df.dropna(inplace=True)\n",
    "my_df.reset_index(drop=True,inplace=True)\n",
    "my_df.info()"
   ]
  },
  {
   "cell_type": "code",
   "execution_count": 4,
   "metadata": {},
   "outputs": [],
   "source": [
    "x = my_df.text\n",
    "y = my_df.target"
   ]
  },
  {
   "cell_type": "code",
   "execution_count": 5,
   "metadata": {},
   "outputs": [],
   "source": [
    "SEED = 2000\n",
    "x_train, x_validation_and_test, y_train, y_validation_and_test = train_test_split(x, y, test_size=.02, random_state=SEED)\n",
    "x_validation, x_test, y_validation, y_test = train_test_split(x_validation_and_test, y_validation_and_test, test_size=.5, random_state=SEED)"
   ]
  },
  {
   "cell_type": "code",
   "execution_count": 6,
   "metadata": {},
   "outputs": [],
   "source": [
    "def labelize_tweets_ug(tweets,label):\n",
    "    result = []\n",
    "    prefix = label\n",
    "    for i, t in zip(tweets.index, tweets):\n",
    "        result.append(TaggedDocument(t.split(), [prefix + '_%s' % i]))\n",
    "    return result"
   ]
  },
  {
   "cell_type": "code",
   "execution_count": 7,
   "metadata": {},
   "outputs": [],
   "source": [
    "all_x = pd.concat([x_train,x_validation,x_test])\n",
    "all_x_w2v = labelize_tweets_ug(all_x, 'all')"
   ]
  },
  {
   "cell_type": "code",
   "execution_count": 8,
   "metadata": {},
   "outputs": [
    {
     "data": {
      "text/plain": [
       "1620947"
      ]
     },
     "execution_count": 8,
     "metadata": {},
     "output_type": "execute_result"
    }
   ],
   "source": [
    "len(all_x_w2v)"
   ]
  },
  {
   "cell_type": "code",
   "execution_count": 9,
   "metadata": {},
   "outputs": [],
   "source": [
    "cores=multiprocessing.cpu_count()"
   ]
  },
  {
   "cell_type": "code",
   "execution_count": 10,
   "metadata": {},
   "outputs": [],
   "source": [
    "widgets = [progressbar.Percentage(),progressbar.Bar(),\" Translated : \",progressbar.Counter(),\"  \",progressbar.ETA()]\n",
    "bar = progressbar.ProgressBar(widgets=widgets, max_value=len(my_df.index))"
   ]
  },
  {
   "cell_type": "code",
   "execution_count": 11,
   "metadata": {},
   "outputs": [],
   "source": [
    "def get_vectors(model, corpus, size):\n",
    "    vecs = np.zeros((len(corpus), size))\n",
    "    n = 0\n",
    "    for i in corpus.index:\n",
    "        prefix = 'all_' + str(i)\n",
    "        vecs[n] = model.docvecs[prefix]\n",
    "        n += 1\n",
    "    return vecs"
   ]
  },
  {
   "cell_type": "markdown",
   "metadata": {},
   "source": [
    "# DBOW"
   ]
  },
  {
   "cell_type": "code",
   "execution_count": 12,
   "metadata": {},
   "outputs": [
    {
     "name": "stderr",
     "output_type": "stream",
     "text": [
      "100%|██████████| 1620947/1620947 [00:00<00:00, 2834958.87it/s]\n"
     ]
    }
   ],
   "source": [
    "model_ug_dbow = Doc2Vec(dm=0, vector_size=100, negative=5, min_count=2, workers=cores, alpha=0.065, min_alpha=0.065)\n",
    "model_ug_dbow.build_vocab([x for x in tqdm(all_x_w2v)])"
   ]
  },
  {
   "cell_type": "code",
   "execution_count": 13,
   "metadata": {},
   "outputs": [
    {
     "name": "stderr",
     "output_type": "stream",
     "text": [
      "100%|██████████| 1620947/1620947 [00:00<00:00, 3052726.04it/s]\n",
      "100%|██████████| 1620947/1620947 [00:00<00:00, 3204368.78it/s]\n",
      "100%|██████████| 1620947/1620947 [00:00<00:00, 3148782.67it/s]\n",
      "100%|██████████| 1620947/1620947 [00:00<00:00, 3156319.83it/s]\n",
      "100%|██████████| 1620947/1620947 [00:00<00:00, 2350977.39it/s]\n",
      "100%|██████████| 1620947/1620947 [00:00<00:00, 3193905.13it/s]\n",
      "100%|██████████| 1620947/1620947 [00:00<00:00, 3194403.35it/s]\n",
      "100%|██████████| 1620947/1620947 [00:00<00:00, 3305793.49it/s]\n",
      "100%|██████████| 1620947/1620947 [00:00<00:00, 2324980.26it/s]\n",
      "100%|██████████| 1620947/1620947 [00:00<00:00, 3054397.86it/s]\n",
      "100%|██████████| 1620947/1620947 [00:00<00:00, 3251698.00it/s]\n",
      "100%|██████████| 1620947/1620947 [00:00<00:00, 3205391.56it/s]\n",
      "100%|██████████| 1620947/1620947 [00:00<00:00, 3310135.94it/s]\n",
      "100%|██████████| 1620947/1620947 [00:00<00:00, 3170093.64it/s]\n",
      "100%|██████████| 1620947/1620947 [00:00<00:00, 3303852.90it/s]\n",
      "100%|██████████| 1620947/1620947 [00:00<00:00, 3191269.56it/s]\n",
      "100%|██████████| 1620947/1620947 [00:00<00:00, 3092902.70it/s]\n",
      "100%|██████████| 1620947/1620947 [00:00<00:00, 3190122.54it/s]\n",
      "100%|██████████| 1620947/1620947 [00:00<00:00, 3094759.69it/s]\n",
      "100%|██████████| 1620947/1620947 [00:00<00:00, 3240745.84it/s]\n",
      "100%|██████████| 1620947/1620947 [00:00<00:00, 3027959.68it/s]\n",
      "100%|██████████| 1620947/1620947 [00:00<00:00, 2722753.12it/s]\n",
      "100%|██████████| 1620947/1620947 [00:00<00:00, 2385212.21it/s]\n",
      "100%|██████████| 1620947/1620947 [00:00<00:00, 2514129.61it/s]\n",
      "100%|██████████| 1620947/1620947 [00:00<00:00, 3035027.78it/s]\n",
      "100%|██████████| 1620947/1620947 [00:00<00:00, 2912230.36it/s]\n",
      "100%|██████████| 1620947/1620947 [00:00<00:00, 3044958.83it/s]\n",
      "100%|██████████| 1620947/1620947 [00:00<00:00, 2676539.34it/s]\n",
      "100%|██████████| 1620947/1620947 [00:00<00:00, 2838516.80it/s]\n",
      "100%|██████████| 1620947/1620947 [00:00<00:00, 2672758.73it/s]\n"
     ]
    },
    {
     "name": "stdout",
     "output_type": "stream",
     "text": [
      "CPU times: user 45min 18s, sys: 7min 28s, total: 52min 47s\n",
      "Wall time: 42min 40s\n"
     ]
    }
   ],
   "source": [
    "%%time\n",
    "for epoch in range(30):\n",
    "    model_ug_dbow.train(utils.shuffle([x for x in tqdm(all_x_w2v)]), total_examples=len(all_x_w2v), epochs=1)\n",
    "    model_ug_dbow.alpha -= 0.002\n",
    "    model_ug_dbow.min_alpha = model_ug_dbow.alpha"
   ]
  },
  {
   "cell_type": "code",
   "execution_count": 14,
   "metadata": {},
   "outputs": [
    {
     "name": "stderr",
     "output_type": "stream",
     "text": [
      "/root/anaconda3/envs/py36/lib/python3.6/site-packages/ipykernel_launcher.py:1: DeprecationWarning: Call to deprecated `most_similar` (Method will be removed in 4.0.0, use self.wv.most_similar() instead).\n",
      "  \"\"\"Entry point for launching an IPython kernel.\n"
     ]
    },
    {
     "data": {
      "text/plain": [
       "[('cobb', 0.4523930549621582),\n",
       " ('nycc', 0.3903326690196991),\n",
       " ('webcast', 0.3788723349571228),\n",
       " ('faaaaast', 0.3770343065261841),\n",
       " ('ssiiccaa', 0.375257670879364),\n",
       " ('extinguish', 0.37267398834228516),\n",
       " ('federico', 0.3608899712562561),\n",
       " ('mainit', 0.3596012592315674),\n",
       " ('vil', 0.35707786679267883),\n",
       " ('gourock', 0.3530207872390747)]"
      ]
     },
     "execution_count": 14,
     "metadata": {},
     "output_type": "execute_result"
    }
   ],
   "source": [
    "model_ug_dbow.most_similar('good')"
   ]
  },
  {
   "cell_type": "code",
   "execution_count": 15,
   "metadata": {},
   "outputs": [
    {
     "name": "stderr",
     "output_type": "stream",
     "text": [
      "/root/anaconda3/envs/py36/lib/python3.6/site-packages/sklearn/linear_model/logistic.py:433: FutureWarning: Default solver will be changed to 'lbfgs' in 0.22. Specify a solver to silence this warning.\n",
      "  FutureWarning)\n",
      "/root/anaconda3/envs/py36/lib/python3.6/site-packages/sklearn/linear_model/logistic.py:460: FutureWarning: Default multi_class will be changed to 'auto' in 0.22. Specify the multi_class option to silence this warning.\n",
      "  \"this warning.\", FutureWarning)\n"
     ]
    },
    {
     "data": {
      "text/plain": [
       "0.7128138688382997"
      ]
     },
     "execution_count": 15,
     "metadata": {},
     "output_type": "execute_result"
    }
   ],
   "source": [
    "train_vecs_dbow = get_vectors(model_ug_dbow, x_train, 100)\n",
    "validation_vecs_dbow = get_vectors(model_ug_dbow, x_validation, 100)\n",
    "clf = LogisticRegression()\n",
    "clf.fit(train_vecs_dbow, y_train)\n",
    "clf.score(validation_vecs_dbow, y_validation)"
   ]
  },
  {
   "cell_type": "code",
   "execution_count": null,
   "metadata": {},
   "outputs": [],
   "source": [
    "model_ug_dbow.save('lib/d2v_dbow_eng')\n",
    "model_ug_dbow = Doc2Vec.load('lib/d2v_dbow_eng')\n",
    "model_ug_dbow.delete_temporary_training_data(keep_doctags_vectors=True, keep_inference=True)"
   ]
  },
  {
   "cell_type": "markdown",
   "metadata": {},
   "source": [
    "# DMC"
   ]
  },
  {
   "cell_type": "code",
   "execution_count": null,
   "metadata": {},
   "outputs": [
    {
     "name": "stderr",
     "output_type": "stream",
     "text": [
      "100%|██████████| 1620947/1620947 [00:00<00:00, 2969791.85it/s]\n"
     ]
    }
   ],
   "source": [
    "model_ug_dmc = Doc2Vec(dm=1, dm_concat=1, vector_size=100, window=2, negative=5, min_count=2, workers=cores, alpha=0.065, min_alpha=0.065)\n",
    "model_ug_dmc.build_vocab([x for x in tqdm(all_x_w2v)])"
   ]
  },
  {
   "cell_type": "code",
   "execution_count": null,
   "metadata": {},
   "outputs": [
    {
     "name": "stderr",
     "output_type": "stream",
     "text": [
      "100%|██████████| 1620947/1620947 [00:00<00:00, 3067297.42it/s]\n",
      "100%|██████████| 1620947/1620947 [00:00<00:00, 2496324.40it/s]\n",
      "100%|██████████| 1620947/1620947 [00:00<00:00, 2760284.87it/s]\n",
      "100%|██████████| 1620947/1620947 [00:00<00:00, 3024454.78it/s]\n",
      "100%|██████████| 1620947/1620947 [00:00<00:00, 3011984.37it/s]\n",
      "100%|██████████| 1620947/1620947 [00:00<00:00, 2946950.51it/s]\n",
      "100%|██████████| 1620947/1620947 [00:00<00:00, 2855000.70it/s]\n",
      "100%|██████████| 1620947/1620947 [00:00<00:00, 3064144.15it/s]\n",
      "100%|██████████| 1620947/1620947 [00:00<00:00, 2739772.11it/s]\n",
      "100%|██████████| 1620947/1620947 [00:00<00:00, 2827084.18it/s]\n",
      "100%|██████████| 1620947/1620947 [00:00<00:00, 3051157.38it/s]\n",
      "100%|██████████| 1620947/1620947 [00:00<00:00, 3077811.71it/s]\n",
      "100%|██████████| 1620947/1620947 [00:00<00:00, 3015642.31it/s]\n",
      "100%|██████████| 1620947/1620947 [00:00<00:00, 2623087.78it/s]\n",
      "100%|██████████| 1620947/1620947 [00:00<00:00, 2656988.42it/s]\n",
      "100%|██████████| 1620947/1620947 [00:00<00:00, 3041400.88it/s]\n",
      "100%|██████████| 1620947/1620947 [00:00<00:00, 3080567.40it/s]\n",
      "100%|██████████| 1620947/1620947 [00:00<00:00, 2827466.29it/s]\n",
      "100%|██████████| 1620947/1620947 [00:00<00:00, 2959563.37it/s]\n",
      "100%|██████████| 1620947/1620947 [00:00<00:00, 2988365.85it/s]\n",
      "100%|██████████| 1620947/1620947 [00:00<00:00, 3100928.07it/s]\n",
      "100%|██████████| 1620947/1620947 [00:00<00:00, 3066319.37it/s]\n",
      "100%|██████████| 1620947/1620947 [00:00<00:00, 3115443.21it/s]\n",
      "100%|██████████| 1620947/1620947 [00:00<00:00, 2946816.39it/s]\n",
      "100%|██████████| 1620947/1620947 [00:00<00:00, 3080422.24it/s]\n",
      "100%|██████████| 1620947/1620947 [00:00<00:00, 3079399.54it/s]\n",
      "100%|██████████| 1620947/1620947 [00:00<00:00, 2850534.59it/s]\n",
      "100%|██████████| 1620947/1620947 [00:00<00:00, 3086005.37it/s]\n",
      "100%|██████████| 1620947/1620947 [00:00<00:00, 2880208.84it/s]\n",
      "100%|██████████| 1620947/1620947 [00:00<00:00, 2719732.78it/s]\n"
     ]
    },
    {
     "name": "stdout",
     "output_type": "stream",
     "text": [
      "CPU times: user 1h 4min 25s, sys: 8min 21s, total: 1h 12min 47s\n",
      "Wall time: 48min 5s\n"
     ]
    }
   ],
   "source": [
    "%%time\n",
    "for epoch in range(30):\n",
    "    model_ug_dmc.train(utils.shuffle([x for x in tqdm(all_x_w2v)]), total_examples=len(all_x_w2v), epochs=1)\n",
    "    model_ug_dmc.alpha -= 0.002\n",
    "    model_ug_dmc.min_alpha = model_ug_dmc.alpha"
   ]
  },
  {
   "cell_type": "code",
   "execution_count": null,
   "metadata": {},
   "outputs": [
    {
     "name": "stderr",
     "output_type": "stream",
     "text": [
      "/root/anaconda3/envs/py36/lib/python3.6/site-packages/ipykernel_launcher.py:1: DeprecationWarning: Call to deprecated `most_similar` (Method will be removed in 4.0.0, use self.wv.most_similar() instead).\n",
      "  \"\"\"Entry point for launching an IPython kernel.\n"
     ]
    },
    {
     "data": {
      "text/plain": [
       "[('gooooood', 0.7312248349189758),\n",
       " ('gooooooood', 0.6687590479850769),\n",
       " ('gooood', 0.66729336977005),\n",
       " ('goooooood', 0.6630001068115234),\n",
       " ('gud', 0.6496378183364868),\n",
       " ('goood', 0.6460071206092834),\n",
       " ('great', 0.6389926671981812),\n",
       " ('rtwt', 0.6371935606002808),\n",
       " ('chuckyoutuesday', 0.6360832452774048),\n",
       " ('gd', 0.6342563033103943)]"
      ]
     },
     "execution_count": 19,
     "metadata": {},
     "output_type": "execute_result"
    }
   ],
   "source": [
    "model_ug_dmc.most_similar('good')"
   ]
  },
  {
   "cell_type": "code",
   "execution_count": null,
   "metadata": {},
   "outputs": [
    {
     "name": "stderr",
     "output_type": "stream",
     "text": [
      "/root/anaconda3/envs/py36/lib/python3.6/site-packages/sklearn/linear_model/logistic.py:433: FutureWarning: Default solver will be changed to 'lbfgs' in 0.22. Specify a solver to silence this warning.\n",
      "  FutureWarning)\n",
      "/root/anaconda3/envs/py36/lib/python3.6/site-packages/sklearn/linear_model/logistic.py:460: FutureWarning: Default multi_class will be changed to 'auto' in 0.22. Specify the multi_class option to silence this warning.\n",
      "  \"this warning.\", FutureWarning)\n"
     ]
    },
    {
     "data": {
      "text/plain": [
       "0.6342155592572027"
      ]
     },
     "execution_count": 20,
     "metadata": {},
     "output_type": "execute_result"
    }
   ],
   "source": [
    "train_vecs_dmc = get_vectors(model_ug_dmc, x_train, 100)\n",
    "validation_vecs_dmc = get_vectors(model_ug_dmc, x_validation, 100)\n",
    "clf = LogisticRegression()\n",
    "clf.fit(train_vecs_dmc, y_train)\n",
    "clf.score(validation_vecs_dmc, y_validation)"
   ]
  },
  {
   "cell_type": "code",
   "execution_count": null,
   "metadata": {},
   "outputs": [],
   "source": [
    "model_ug_dmc.save('lib/d2v_dmc_eng')\n",
    "model_ug_dmc = Doc2Vec.load('lib/d2v_dmc_eng')"
   ]
  },
  {
   "cell_type": "markdown",
   "metadata": {},
   "source": [
    "# DMM"
   ]
  },
  {
   "cell_type": "code",
   "execution_count": null,
   "metadata": {},
   "outputs": [
    {
     "name": "stderr",
     "output_type": "stream",
     "text": [
      "/root/anaconda3/envs/py36/lib/python3.6/site-packages/gensim/models/doc2vec.py:580: UserWarning: The parameter `size` is deprecated, will be removed in 4.0.0, use `vector_size` instead.\n",
      "  warnings.warn(\"The parameter `size` is deprecated, will be removed in 4.0.0, use `vector_size` instead.\")\n",
      "100%|██████████| 1620947/1620947 [00:01<00:00, 931153.09it/s] \n"
     ]
    }
   ],
   "source": [
    "model_ug_dmm = Doc2Vec(dm=1, dm_mean=1, size=100, window=4, negative=5, min_count=2, workers=cores, alpha=0.065, min_alpha=0.065)\n",
    "model_ug_dmm.build_vocab([x for x in tqdm(all_x_w2v)])"
   ]
  },
  {
   "cell_type": "code",
   "execution_count": null,
   "metadata": {},
   "outputs": [
    {
     "name": "stderr",
     "output_type": "stream",
     "text": [
      "100%|██████████| 1620947/1620947 [00:00<00:00, 2762660.50it/s]\n",
      "100%|██████████| 1620947/1620947 [00:00<00:00, 2794094.53it/s]\n",
      "100%|██████████| 1620947/1620947 [00:00<00:00, 2995430.90it/s]\n",
      "100%|██████████| 1620947/1620947 [00:00<00:00, 2857867.75it/s]\n",
      "100%|██████████| 1620947/1620947 [00:00<00:00, 2918244.23it/s]\n",
      "100%|██████████| 1620947/1620947 [00:00<00:00, 2912509.82it/s]\n",
      "100%|██████████| 1620947/1620947 [00:00<00:00, 2614426.10it/s]\n",
      "100%|██████████| 1620947/1620947 [00:00<00:00, 2766240.62it/s]\n",
      "100%|██████████| 1620947/1620947 [00:00<00:00, 2792429.35it/s]\n",
      "100%|██████████| 1620947/1620947 [00:00<00:00, 3060037.08it/s]\n",
      "100%|██████████| 1620947/1620947 [00:00<00:00, 2925702.48it/s]\n",
      "100%|██████████| 1620947/1620947 [00:00<00:00, 3011127.94it/s]\n",
      "100%|██████████| 1620947/1620947 [00:00<00:00, 2857925.41it/s]\n",
      "100%|██████████| 1620947/1620947 [00:00<00:00, 2716045.16it/s]\n",
      "100%|██████████| 1620947/1620947 [00:00<00:00, 2934200.27it/s]\n",
      "100%|██████████| 1620947/1620947 [00:00<00:00, 2792224.06it/s]\n",
      "100%|██████████| 1620947/1620947 [00:00<00:00, 3067175.65it/s]\n",
      "100%|██████████| 1620947/1620947 [00:00<00:00, 3057350.98it/s]\n",
      "100%|██████████| 1620947/1620947 [00:00<00:00, 2731180.69it/s]\n",
      "100%|██████████| 1620947/1620947 [00:00<00:00, 3014906.80it/s]\n",
      "100%|██████████| 1620947/1620947 [00:00<00:00, 2917742.03it/s]\n",
      "100%|██████████| 1620947/1620947 [00:00<00:00, 3060807.18it/s]\n",
      "100%|██████████| 1620947/1620947 [00:00<00:00, 2616360.85it/s]\n",
      "100%|██████████| 1620947/1620947 [00:00<00:00, 2832020.78it/s]\n",
      "100%|██████████| 1620947/1620947 [00:00<00:00, 3110243.96it/s]\n",
      "100%|██████████| 1620947/1620947 [00:00<00:00, 2811309.54it/s]\n",
      "100%|██████████| 1620947/1620947 [00:00<00:00, 3076762.89it/s]\n",
      "100%|██████████| 1620947/1620947 [00:00<00:00, 2877779.10it/s]\n",
      "100%|██████████| 1620947/1620947 [00:00<00:00, 2762690.81it/s]\n",
      "100%|██████████| 1620947/1620947 [00:00<00:00, 2825223.30it/s]\n"
     ]
    },
    {
     "name": "stdout",
     "output_type": "stream",
     "text": [
      "CPU times: user 1h 33min 15s, sys: 35min 27s, total: 2h 8min 43s\n",
      "Wall time: 1h 41min 46s\n"
     ]
    }
   ],
   "source": [
    "%%time\n",
    "for epoch in range(30):\n",
    "    model_ug_dmm.train(utils.shuffle([x for x in tqdm(all_x_w2v)]), total_examples=len(all_x_w2v), epochs=1)\n",
    "    model_ug_dmm.alpha -= 0.002\n",
    "    model_ug_dmm.min_alpha = model_ug_dmm.alpha"
   ]
  },
  {
   "cell_type": "code",
   "execution_count": null,
   "metadata": {},
   "outputs": [
    {
     "name": "stderr",
     "output_type": "stream",
     "text": [
      "/root/anaconda3/envs/py36/lib/python3.6/site-packages/ipykernel_launcher.py:1: DeprecationWarning: Call to deprecated `most_similar` (Method will be removed in 4.0.0, use self.wv.most_similar() instead).\n",
      "  \"\"\"Entry point for launching an IPython kernel.\n"
     ]
    },
    {
     "data": {
      "text/plain": [
       "[('go', 0.9642423987388611),\n",
       " ('like', 0.9642223119735718),\n",
       " ('lol', 0.9617702960968018),\n",
       " ('get', 0.9615004062652588),\n",
       " ('work', 0.9601917266845703),\n",
       " ('think', 0.9581536054611206),\n",
       " ('today', 0.9544107913970947),\n",
       " ('love', 0.9539278745651245),\n",
       " ('know', 0.9534299969673157),\n",
       " ('great', 0.9534275531768799)]"
      ]
     },
     "execution_count": 24,
     "metadata": {},
     "output_type": "execute_result"
    }
   ],
   "source": [
    "model_ug_dmm.most_similar('good')"
   ]
  },
  {
   "cell_type": "code",
   "execution_count": null,
   "metadata": {},
   "outputs": [
    {
     "name": "stderr",
     "output_type": "stream",
     "text": [
      "/root/anaconda3/envs/py36/lib/python3.6/site-packages/sklearn/linear_model/logistic.py:433: FutureWarning: Default solver will be changed to 'lbfgs' in 0.22. Specify a solver to silence this warning.\n",
      "  FutureWarning)\n",
      "/root/anaconda3/envs/py36/lib/python3.6/site-packages/sklearn/linear_model/logistic.py:460: FutureWarning: Default multi_class will be changed to 'auto' in 0.22. Specify the multi_class option to silence this warning.\n",
      "  \"this warning.\", FutureWarning)\n"
     ]
    }
   ],
   "source": [
    "train_vecs_dmm = get_vectors(model_ug_dmm, x_train, 100)\n",
    "validation_vecs_dmm = get_vectors(model_ug_dmm, x_validation, 100)\n",
    "clf = LogisticRegression()\n",
    "clf.fit(train_vecs_dmm, y_train)\n",
    "clf.score(validation_vecs_dmm, y_validation)"
   ]
  },
  {
   "cell_type": "code",
   "execution_count": null,
   "metadata": {},
   "outputs": [],
   "source": [
    "model_ug_dmm.save('lib/d2v_dmm_eng')\n",
    "model_ug_dmm = Doc2Vec.load('lib/d2v_dmm_eng')\n",
    "model_ug_dmm.delete_temporary_training_data(keep_doctags_vectors=True, keep_inference=True)"
   ]
  }
 ],
 "metadata": {
  "kernelspec": {
   "display_name": "Python 3",
   "language": "python",
   "name": "python3"
  },
  "language_info": {
   "codemirror_mode": {
    "name": "ipython",
    "version": 3
   },
   "file_extension": ".py",
   "mimetype": "text/x-python",
   "name": "python",
   "nbconvert_exporter": "python",
   "pygments_lexer": "ipython3",
   "version": "3.6.8"
  }
 },
 "nbformat": 4,
 "nbformat_minor": 2
}
