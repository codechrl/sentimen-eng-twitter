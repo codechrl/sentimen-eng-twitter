{
 "cells": [
  {
   "cell_type": "markdown",
   "metadata": {},
   "source": [
    "# Sentimen Analisis Model Eng"
   ]
  },
  {
   "cell_type": "code",
   "execution_count": 1,
   "metadata": {},
   "outputs": [
    {
     "name": "stderr",
     "output_type": "stream",
     "text": [
      "Using TensorFlow backend.\n"
     ]
    }
   ],
   "source": [
    "from gensim.models import Doc2Vec\n",
    "import re\n",
    "import os\n",
    "import pandas as pd\n",
    "import numpy as np\n",
    "import multiprocessing\n",
    "import ipython_genutils\n",
    "import pickle\n",
    "import progressbar\n",
    "import tensorflow as tf\n",
    "from gensim.models import KeyedVectors\n",
    "from keras.preprocessing.sequence import pad_sequences\n",
    "from keras.models import model_from_json\n",
    "from keras.callbacks import ModelCheckpoint\n",
    "from keras.models import Sequential\n",
    "from keras.layers import Dense, Dropout, MaxPooling1D,GRU,LSTM\n",
    "from keras.layers import Flatten\n",
    "from keras.utils import to_categorical\n",
    "from keras.layers import Conv1D, GlobalMaxPooling1D\n",
    "from keras.layers.embeddings import Embedding\n",
    "from sklearn.metrics import classification_report\n",
    "from sklearn import model_selection\n",
    "from sklearn import utils\n",
    "from sklearn.utils import shuffle\n",
    "from gensim.models.word2vec import Word2Vec\n",
    "from keras.preprocessing.text import Tokenizer\n",
    "import matplotlib.pyplot as plt\n",
    "from sklearn.metrics import classification_report"
   ]
  },
  {
   "cell_type": "markdown",
   "metadata": {},
   "source": [
    "### load file csv"
   ]
  },
  {
   "cell_type": "markdown",
   "metadata": {},
   "source": [
    "target\n",
    "1. negative = -1\n",
    "2. neutral = 0\n",
    "3. positive = 1"
   ]
  },
  {
   "cell_type": "code",
   "execution_count": 2,
   "metadata": {},
   "outputs": [
    {
     "name": "stderr",
     "output_type": "stream",
     "text": [
      "C:\\Users\\Kurniawan\\Anaconda3\\envs\\nlp\\lib\\site-packages\\numpy\\lib\\arraysetops.py:522: FutureWarning: elementwise comparison failed; returning scalar instead, but in the future will perform elementwise comparison\n",
      "  mask |= (ar1 == a)\n"
     ]
    },
    {
     "name": "stdout",
     "output_type": "stream",
     "text": [
      "<class 'pandas.core.frame.DataFrame'>\n",
      "Int64Index: 1620947 entries, 1596198 to 1064138\n",
      "Data columns (total 2 columns):\n",
      "text      1620947 non-null object\n",
      "target    1620947 non-null int64\n",
      "dtypes: int64(1), object(1)\n",
      "memory usage: 37.1+ MB\n"
     ]
    },
    {
     "data": {
      "text/html": [
       "<div>\n",
       "<style scoped>\n",
       "    .dataframe tbody tr th:only-of-type {\n",
       "        vertical-align: middle;\n",
       "    }\n",
       "\n",
       "    .dataframe tbody tr th {\n",
       "        vertical-align: top;\n",
       "    }\n",
       "\n",
       "    .dataframe thead th {\n",
       "        text-align: right;\n",
       "    }\n",
       "</style>\n",
       "<table border=\"1\" class=\"dataframe\">\n",
       "  <thead>\n",
       "    <tr style=\"text-align: right;\">\n",
       "      <th></th>\n",
       "      <th>text</th>\n",
       "      <th>target</th>\n",
       "    </tr>\n",
       "  </thead>\n",
       "  <tbody>\n",
       "    <tr>\n",
       "      <th>1596198</th>\n",
       "      <td>fli lax sfo system let check site tell tell</td>\n",
       "      <td>-1</td>\n",
       "    </tr>\n",
       "    <tr>\n",
       "      <th>1323467</th>\n",
       "      <td>hope know everyon support media shit stupid pe...</td>\n",
       "      <td>1</td>\n",
       "    </tr>\n",
       "    <tr>\n",
       "      <th>926106</th>\n",
       "      <td>mine great ate good mother seen ya pic cute</td>\n",
       "      <td>1</td>\n",
       "    </tr>\n",
       "    <tr>\n",
       "      <th>510179</th>\n",
       "      <td>wht hahhh</td>\n",
       "      <td>-1</td>\n",
       "    </tr>\n",
       "    <tr>\n",
       "      <th>90318</th>\n",
       "      <td>school tomorrow perform wish harmonuium come end</td>\n",
       "      <td>-1</td>\n",
       "    </tr>\n",
       "  </tbody>\n",
       "</table>\n",
       "</div>"
      ],
      "text/plain": [
       "                                                      text  target\n",
       "1596198        fli lax sfo system let check site tell tell      -1\n",
       "1323467  hope know everyon support media shit stupid pe...       1\n",
       "926106         mine great ate good mother seen ya pic cute       1\n",
       "510179                                           wht hahhh      -1\n",
       "90318     school tomorrow perform wish harmonuium come end      -1"
      ]
     },
     "execution_count": 2,
     "metadata": {},
     "output_type": "execute_result"
    }
   ],
   "source": [
    "df = pd.read_csv('lib/clean_text.csv',index_col=0)\n",
    "df['target']=df['target'].map({0:-1,1:0,2:1})\n",
    "df.dropna(inplace=True)\n",
    "df.reset_index(drop=True,inplace=True)\n",
    "df = shuffle(df)\n",
    "df.info()\n",
    "df.head()"
   ]
  },
  {
   "cell_type": "markdown",
   "metadata": {},
   "source": [
    "### jumlah data tiap class"
   ]
  },
  {
   "cell_type": "code",
   "execution_count": 3,
   "metadata": {},
   "outputs": [
    {
     "data": {
      "text/plain": [
       "target\n",
       "-1    814047\n",
       " 0      6227\n",
       " 1    800673\n",
       "Name: text, dtype: int64"
      ]
     },
     "execution_count": 3,
     "metadata": {},
     "output_type": "execute_result"
    }
   ],
   "source": [
    "df.groupby('target')['text'].count()"
   ]
  },
  {
   "cell_type": "markdown",
   "metadata": {},
   "source": [
    "### downsampling dataset ke jumlah class terkecil"
   ]
  },
  {
   "cell_type": "code",
   "execution_count": 4,
   "metadata": {},
   "outputs": [],
   "source": [
    "dneg=df.query('target == -1')\n",
    "dnet=df.query('target == 0')\n",
    "dpos=df.query('target == 1')\n",
    "\n",
    "minlen=min(len(dnet.index),len(dpos.index),len(dneg.index))\n",
    "\n",
    "dnet=dnet.head(minlen)\n",
    "dneg=dneg.head(minlen)\n",
    "dpos=dpos.head(minlen)\n",
    "\n",
    "data_training=pd.concat([dneg.text,dnet.text,dpos.text])\n",
    "target=pd.concat([dneg.target,dnet.target,dpos.target])\n",
    "target=to_categorical(target-target.min())"
   ]
  },
  {
   "cell_type": "markdown",
   "metadata": {},
   "source": [
    "### tanpa downsampling"
   ]
  },
  {
   "cell_type": "code",
   "execution_count": 5,
   "metadata": {},
   "outputs": [],
   "source": [
    "data_training=df.text\n",
    "target=df.target\n",
    "target=to_categorical(target-target.min())"
   ]
  },
  {
   "cell_type": "code",
   "execution_count": 6,
   "metadata": {},
   "outputs": [
    {
     "data": {
      "text/plain": [
       "target\n",
       "0    814047\n",
       "1      6227\n",
       "2    800673\n",
       "Name: text, dtype: int64"
      ]
     },
     "execution_count": 6,
     "metadata": {},
     "output_type": "execute_result"
    }
   ],
   "source": [
    "df_ds=pd.DataFrame({'text':data_training,'target':np.argmax(target, axis=1, out=None)})\n",
    "df_ds.groupby('target')['text'].count()"
   ]
  },
  {
   "cell_type": "markdown",
   "metadata": {},
   "source": [
    "\n",
    "### tokenizing"
   ]
  },
  {
   "cell_type": "markdown",
   "metadata": {},
   "source": [
    "create tokenizer lalu di save ada/dibuat tokenizer. jika sudah dibuat maka skip langsung ke load tokenizer"
   ]
  },
  {
   "cell_type": "code",
   "execution_count": 7,
   "metadata": {},
   "outputs": [],
   "source": [
    "#save tokenizer\n",
    "#data_training=df.text\n",
    "#tokenizer = Tokenizer(num_words=100000)\n",
    "#tokenizer.fit_on_texts(data_training)                        \n",
    "#sequences = tokenizer.texts_to_sequences(data_training) \n",
    "#with open('lib/tokenizer_eng.pickle', 'wb') as handle:\n",
    "#    pickle.dump(tokenizer, handle, protocol=pickle.HIGHEST_PROTOCOL)"
   ]
  },
  {
   "cell_type": "markdown",
   "metadata": {},
   "source": [
    "load tokenizer lalu konversi dataset jadi vector"
   ]
  },
  {
   "cell_type": "code",
   "execution_count": 8,
   "metadata": {},
   "outputs": [
    {
     "name": "stdout",
     "output_type": "stream",
     "text": [
      "tokenizing\n"
     ]
    }
   ],
   "source": [
    "print('tokenizing')\n",
    "tokenizer = Tokenizer(num_words=100000)\n",
    "with open('lib/tokenizer_eng.pickle', 'rb') as handle:\n",
    "    tokenizer = pickle.load(handle)\n",
    "sequences = tokenizer.texts_to_sequences(data_training) "
   ]
  },
  {
   "cell_type": "code",
   "execution_count": 9,
   "metadata": {},
   "outputs": [
    {
     "data": {
      "text/plain": [
       "[470, 3273, 4417, 1100, 85, 158, 405, 148, 148]"
      ]
     },
     "execution_count": 9,
     "metadata": {},
     "output_type": "execute_result"
    }
   ],
   "source": [
    "sequences[0]"
   ]
  },
  {
   "cell_type": "markdown",
   "metadata": {},
   "source": [
    "### padding"
   ]
  },
  {
   "cell_type": "code",
   "execution_count": 10,
   "metadata": {},
   "outputs": [
    {
     "name": "stdout",
     "output_type": "stream",
     "text": [
      "padding\n"
     ]
    }
   ],
   "source": [
    "print('padding')\n",
    "input_seq = pad_sequences(sequences, maxlen=70)"
   ]
  },
  {
   "cell_type": "code",
   "execution_count": 11,
   "metadata": {},
   "outputs": [
    {
     "data": {
      "text/plain": [
       "array([   0,    0,    0,    0,    0,    0,    0,    0,    0,    0,    0,\n",
       "          0,    0,    0,    0,    0,    0,    0,    0,    0,    0,    0,\n",
       "          0,    0,    0,    0,    0,    0,    0,    0,    0,    0,    0,\n",
       "          0,    0,    0,    0,    0,    0,    0,    0,    0,    0,    0,\n",
       "          0,    0,    0,    0,    0,    0,    0,    0,    0,    0,    0,\n",
       "          0,    0,    0,    0,    0,    0,  470, 3273, 4417, 1100,   85,\n",
       "        158,  405,  148,  148])"
      ]
     },
     "execution_count": 11,
     "metadata": {},
     "output_type": "execute_result"
    }
   ],
   "source": [
    "input_seq[0]"
   ]
  },
  {
   "cell_type": "markdown",
   "metadata": {},
   "source": [
    "### split dataset jadi data training dan data validasi"
   ]
  },
  {
   "cell_type": "code",
   "execution_count": 12,
   "metadata": {},
   "outputs": [
    {
     "name": "stdout",
     "output_type": "stream",
     "text": [
      "data train\t:  1296757\n",
      "data validasi\t:  324190\n"
     ]
    }
   ],
   "source": [
    "input_train, input_val, target_train, target_val = model_selection.train_test_split(input_seq,target,test_size = 0.2, stratify=target, random_state = 0)\n",
    "\n",
    "print('data train\\t: ',len(input_train))\n",
    "print('data validasi\\t: ',len(input_val),)"
   ]
  },
  {
   "cell_type": "markdown",
   "metadata": {},
   "source": [
    "### Parameter"
   ]
  },
  {
   "cell_type": "markdown",
   "metadata": {},
   "source": [
    "1. ep = epoch\n",
    "2. bs = batch size\n",
    "3. traina = True atau False \n",
    "4. lanjut = True atau False"
   ]
  },
  {
   "cell_type": "markdown",
   "metadata": {},
   "source": [
    "ket.\n",
    "1. jumlah epoch training model\n",
    "2. jumlah batch size dlm training\n",
    "3. True untuk trainable sehingga dalam proses training model word embedding juga di train. False untuk word embedding tidak ikut di train.\n",
    "4. True untuk me-load model yg sudah di train sebelumnya/pretrained model lalu model tsb di train lagi. False untuk training model dari awal seperti model baru/ blm di train "
   ]
  },
  {
   "cell_type": "code",
   "execution_count": 13,
   "metadata": {},
   "outputs": [],
   "source": [
    "ep=5\n",
    "bs=128\n",
    "traina=True\n",
    "lanjut=False"
   ]
  },
  {
   "cell_type": "markdown",
   "metadata": {},
   "source": [
    "# Model"
   ]
  },
  {
   "cell_type": "markdown",
   "metadata": {},
   "source": [
    "Model\n",
    "1. Word2Vec\n",
    "2. GloVe\n",
    "3. DBOW\n",
    "4. DMM\n",
    "5. DMC\n",
    "6. DBOW-DMM\n",
    "7. DBOW-DMC\n",
    "8. DMM-DMC\n",
    "9. DBOW-DMM-DMC\n"
   ]
  },
  {
   "cell_type": "markdown",
   "metadata": {},
   "source": [
    "### neural network"
   ]
  },
  {
   "cell_type": "code",
   "execution_count": 14,
   "metadata": {},
   "outputs": [],
   "source": [
    "def getModel(num_word,embed_dim,embed_weight,input_len,trainable):\n",
    "    seed = 7\n",
    "    model = Sequential()\n",
    "    e = Embedding(num_word, embed_dim, weights=[embed_weight], input_length=input_len, trainable=trainable)\n",
    "    model.add(e)\n",
    "    model.add(Conv1D(32,kernel_size=2,padding='same',activation='relu'))\n",
    "    model.add(MaxPooling1D())\n",
    "    model.add(Dropout(0.3))\n",
    "    model.add(Conv1D(64,kernel_size=2,padding='same',activation='relu'))\n",
    "    model.add(MaxPooling1D())\n",
    "    model.add(Dropout(0.35))\n",
    "    model.add(Conv1D(128,kernel_size=2,padding='same',activation='relu'))\n",
    "    model.add(MaxPooling1D())\n",
    "    model.add(Dropout(0.4))\n",
    "    model.add(LSTM(50,return_sequences=True))\n",
    "    model.add(Dropout(0.25))\n",
    "    model.add(Flatten())\n",
    "    model.add(Dense(256,activation='relu'))\n",
    "    model.add(Dropout(0.45))\n",
    "    model.add(Dense(3, activation='softmax'))\n",
    "    model.compile(loss='categorical_crossentropy', optimizer='adam', metrics=['categorical_accuracy'])\n",
    "    model.summary()\n",
    "    return model"
   ]
  },
  {
   "cell_type": "code",
   "execution_count": 15,
   "metadata": {},
   "outputs": [],
   "source": [
    "def saveModel(model,path):\n",
    "    model_json = model.to_json()\n",
    "    with open(path, \"w\") as json_file:\n",
    "        json_file.write(model_json)"
   ]
  },
  {
   "cell_type": "code",
   "execution_count": 16,
   "metadata": {},
   "outputs": [],
   "source": [
    "def train(model,lanjut, path_weights,input_train,target_train,input_val,target_val,epoch,bs):\n",
    "    if lanjut==True:\n",
    "        model.load_weights(path_weights)\n",
    "    filepath=path_weights\n",
    "    checkpoint = ModelCheckpoint(filepath, monitor='val_categorical_accuracy', verbose=1, save_best_only=True, mode='max')\n",
    "    callbacks_list = [checkpoint]\n",
    "    history=model.fit(input_train, target_train,validation_data=(input_val, target_val), shuffle=False, epochs=ep, batch_size=bs,callbacks=callbacks_list)\n",
    "    return history"
   ]
  },
  {
   "cell_type": "code",
   "execution_count": 17,
   "metadata": {},
   "outputs": [],
   "source": [
    "def score(weights,input_val,target_val):\n",
    "    model.load_weights(weights)\n",
    "    scores = model.evaluate(input_val, target_val)\n",
    "    print(\"\\n%s: %.2f%%\" % (model.metrics_names[1], scores[1]*100))\n",
    "    print()\n",
    "    predict = model.predict_classes(input_val)\n",
    "    y_true = np.argmax(target_val, axis=1, out=None)\n",
    "    y_pred = predict\n",
    "    target_names = ['negative', 'neutral', 'positive']\n",
    "    print (classification_report(y_true, y_pred, target_names=target_names))"
   ]
  },
  {
   "cell_type": "code",
   "execution_count": 18,
   "metadata": {},
   "outputs": [],
   "source": [
    "def plot(history):\n",
    "    # Plot training & validation accuracy values\n",
    "    plt.plot(history.history['categorical_accuracy'])\n",
    "    plt.plot(history.history['val_categorical_accuracy'])\n",
    "    plt.title('Model accuracy')\n",
    "    plt.ylabel('Accuracy')\n",
    "    plt.xlabel('Epoch')\n",
    "    plt.legend(['Train', 'Test'], loc='upper left')\n",
    "    plt.show()\n",
    "    \n",
    "    # Plot training & validation loss values\n",
    "    plt.plot(history.history['loss'])\n",
    "    plt.plot(history.history['val_loss'])\n",
    "    plt.title('Model loss')\n",
    "    plt.ylabel('Loss')\n",
    "    plt.xlabel('Epoch')\n",
    "    plt.legend(['Train', 'Test'], loc='upper left')\n",
    "    plt.show()"
   ]
  },
  {
   "cell_type": "markdown",
   "metadata": {},
   "source": [
    "# Train"
   ]
  },
  {
   "cell_type": "markdown",
   "metadata": {},
   "source": [
    "## Word2Vec"
   ]
  },
  {
   "cell_type": "code",
   "execution_count": 19,
   "metadata": {},
   "outputs": [
    {
     "name": "stdout",
     "output_type": "stream",
     "text": [
      "loaded\n",
      "word embedding\n"
     ]
    }
   ],
   "source": [
    "# load word2vec\n",
    "model_ug_cbow = KeyedVectors.load('lib/cbow280.word2vec')\n",
    "model_ug_sg = KeyedVectors.load('lib/sg280.word2vec')\n",
    "print('loaded')\n",
    "\n",
    "embeddings_index = {}\n",
    "for w in model_ug_cbow.wv.vocab.keys():\n",
    "    embeddings_index[w] =np.append( model_ug_cbow.wv[w],model_ug_sg.wv[w])\n",
    "\n",
    "num_words = 100000\n",
    "embedding_matrix = np.zeros((num_words, 200))\n",
    "for word, i in tokenizer.word_index.items():\n",
    "    if i >= num_words:\n",
    "        continue\n",
    "    embedding_vector = embeddings_index.get(word)\n",
    "    if embedding_vector is not None:\n",
    "        embedding_matrix[i] = embedding_vector\n",
    "print('word embedding')\n"
   ]
  },
  {
   "cell_type": "code",
   "execution_count": 20,
   "metadata": {},
   "outputs": [
    {
     "name": "stdout",
     "output_type": "stream",
     "text": [
      "_________________________________________________________________\n",
      "Layer (type)                 Output Shape              Param #   \n",
      "=================================================================\n",
      "embedding_1 (Embedding)      (None, 70, 200)           20000000  \n",
      "_________________________________________________________________\n",
      "conv1d_1 (Conv1D)            (None, 70, 32)            12832     \n",
      "_________________________________________________________________\n",
      "max_pooling1d_1 (MaxPooling1 (None, 35, 32)            0         \n",
      "_________________________________________________________________\n",
      "dropout_1 (Dropout)          (None, 35, 32)            0         \n",
      "_________________________________________________________________\n",
      "conv1d_2 (Conv1D)            (None, 35, 64)            4160      \n",
      "_________________________________________________________________\n",
      "max_pooling1d_2 (MaxPooling1 (None, 17, 64)            0         \n",
      "_________________________________________________________________\n",
      "dropout_2 (Dropout)          (None, 17, 64)            0         \n",
      "_________________________________________________________________\n",
      "conv1d_3 (Conv1D)            (None, 17, 128)           16512     \n",
      "_________________________________________________________________\n",
      "max_pooling1d_3 (MaxPooling1 (None, 8, 128)            0         \n",
      "_________________________________________________________________\n",
      "dropout_3 (Dropout)          (None, 8, 128)            0         \n",
      "_________________________________________________________________\n",
      "lstm_1 (LSTM)                (None, 8, 50)             35800     \n",
      "_________________________________________________________________\n",
      "dropout_4 (Dropout)          (None, 8, 50)             0         \n",
      "_________________________________________________________________\n",
      "flatten_1 (Flatten)          (None, 400)               0         \n",
      "_________________________________________________________________\n",
      "dense_1 (Dense)              (None, 256)               102656    \n",
      "_________________________________________________________________\n",
      "dropout_5 (Dropout)          (None, 256)               0         \n",
      "_________________________________________________________________\n",
      "dense_2 (Dense)              (None, 3)                 771       \n",
      "=================================================================\n",
      "Total params: 20,172,731\n",
      "Trainable params: 20,172,731\n",
      "Non-trainable params: 0\n",
      "_________________________________________________________________\n"
     ]
    }
   ],
   "source": [
    "model=getModel(100000, 200, embedding_matrix, 70, traina)"
   ]
  },
  {
   "cell_type": "code",
   "execution_count": 21,
   "metadata": {},
   "outputs": [],
   "source": [
    "saveModel(model,\"lib/model_w2v_eng.json\")"
   ]
  },
  {
   "cell_type": "code",
   "execution_count": 22,
   "metadata": {
    "scrolled": true
   },
   "outputs": [
    {
     "name": "stdout",
     "output_type": "stream",
     "text": [
      "Train on 1296757 samples, validate on 324190 samples\n",
      "Epoch 1/5\n",
      "    384/1296757 [..............................] - ETA: 12:15:56 - loss: 1.0691 - categorical_accuracy: 0.4349"
     ]
    },
    {
     "name": "stderr",
     "output_type": "stream",
     "text": [
      "C:\\Users\\Kurniawan\\Anaconda3\\envs\\nlp\\lib\\site-packages\\keras\\callbacks.py:122: UserWarning: Method on_batch_end() is slow compared to the batch update (0.195437). Check your callbacks.\n",
      "  % delta_t_median)\n",
      "C:\\Users\\Kurniawan\\Anaconda3\\envs\\nlp\\lib\\site-packages\\keras\\callbacks.py:122: UserWarning: Method on_batch_end() is slow compared to the batch update (0.101168). Check your callbacks.\n",
      "  % delta_t_median)\n"
     ]
    },
    {
     "name": "stdout",
     "output_type": "stream",
     "text": [
      "1296757/1296757 [==============================] - 735s 567us/step - loss: 0.5082 - categorical_accuracy: 0.7641 - val_loss: 0.4758 - val_categorical_accuracy: 0.7809\n",
      "\n",
      "Epoch 00001: val_categorical_accuracy improved from -inf to 0.78089, saving model to lib/weights_w2v.hdf5\n",
      "Epoch 2/5\n",
      "1296757/1296757 [==============================] - 690s 532us/step - loss: 0.4769 - categorical_accuracy: 0.7813 - val_loss: 0.4683 - val_categorical_accuracy: 0.7836\n",
      "\n",
      "Epoch 00002: val_categorical_accuracy improved from 0.78089 to 0.78359, saving model to lib/weights_w2v.hdf5\n",
      "Epoch 3/5\n",
      "1296757/1296757 [==============================] - 683s 527us/step - loss: 0.4649 - categorical_accuracy: 0.7884 - val_loss: 0.4667 - val_categorical_accuracy: 0.7842\n",
      "\n",
      "Epoch 00003: val_categorical_accuracy improved from 0.78359 to 0.78416, saving model to lib/weights_w2v.hdf5\n",
      "Epoch 4/5\n",
      "1296757/1296757 [==============================] - 710s 548us/step - loss: 0.4555 - categorical_accuracy: 0.7938 - val_loss: 0.4685 - val_categorical_accuracy: 0.7841\n",
      "\n",
      "Epoch 00004: val_categorical_accuracy did not improve from 0.78416\n",
      "Epoch 5/5\n",
      "1296757/1296757 [==============================] - 678s 523us/step - loss: 0.4488 - categorical_accuracy: 0.7985 - val_loss: 0.4685 - val_categorical_accuracy: 0.7837\n",
      "\n",
      "Epoch 00005: val_categorical_accuracy did not improve from 0.78416\n",
      "Wall time: 58min 45s\n"
     ]
    }
   ],
   "source": [
    "%%time\n",
    "history=train(model,lanjut , 'lib/weights_w2v.hdf5',input_train,target_train,input_val,target_val,ep,bs)"
   ]
  },
  {
   "cell_type": "code",
   "execution_count": 23,
   "metadata": {},
   "outputs": [
    {
     "name": "stdout",
     "output_type": "stream",
     "text": [
      "324190/324190 [==============================] - 96s 297us/step\n",
      "\n",
      "categorical_accuracy: 78.42%\n",
      "\n",
      "              precision    recall  f1-score   support\n",
      "\n",
      "    negative       0.78      0.79      0.79    162810\n",
      "     neutral       0.23      0.00      0.00      1245\n",
      "    positive       0.78      0.79      0.78    160135\n",
      "\n",
      "   micro avg       0.78      0.78      0.78    324190\n",
      "   macro avg       0.60      0.53      0.53    324190\n",
      "weighted avg       0.78      0.78      0.78    324190\n",
      "\n"
     ]
    }
   ],
   "source": [
    "score('lib/weights_w2v.hdf5',input_val,target_val)"
   ]
  },
  {
   "cell_type": "code",
   "execution_count": null,
   "metadata": {},
   "outputs": [
    {
     "data": {
      "image/png": "[encoded data removed]",
      "text/plain": [
       "<Figure size 432x288 with 1 Axes>"
      ]
     },
     "metadata": {
      "needs_background": "light"
     },
     "output_type": "display_data"
    },
    {
     "data": {
      "image/png": "[encoded data removed]",
      "text/plain": [
       "<Figure size 432x288 with 1 Axes>"
      ]
     },
     "metadata": {
      "needs_background": "light"
     },
     "output_type": "display_data"
    }
   ],
   "source": [
    "plot(history)"
   ]
  },
  {
   "cell_type": "markdown",
   "metadata": {},
   "source": [
    "## GloVe"
   ]
  },
  {
   "cell_type": "code",
   "execution_count": null,
   "metadata": {},
   "outputs": [
    {
     "name": "stdout",
     "output_type": "stream",
     "text": [
      "Found 400000 word vectors.\n",
      "embed\n"
     ]
    }
   ],
   "source": [
    "embeddings_index = {}\n",
    "glove_data = 'lib/glove.6B.200d.txt'\n",
    "f = open(glove_data,encoding='utf8')\n",
    "for line in f:\n",
    "    values = line.split()\n",
    "    word = values[0]\n",
    "    coefs = np.asarray(values[1:], dtype='float32')\n",
    "    embeddings_index[word] = coefs\n",
    "f.close()\n",
    "\n",
    "print('Found %s word vectors.' % len(embeddings_index))\n",
    "##\n",
    "##\n",
    "num_words = 100000\n",
    "embedding_matrix = np.zeros((num_words, 200))\n",
    "for word, i in tokenizer.word_index.items():\n",
    "    if i >= num_words:\n",
    "        continue\n",
    "    embedding_vector = embeddings_index.get(word)\n",
    "    if embedding_vector is not None:\n",
    "        # words not found in embedding index will be all-zeros.\n",
    "        embedding_matrix[i] = embedding_vector\n",
    "print('embed')\n"
   ]
  },
  {
   "cell_type": "code",
   "execution_count": null,
   "metadata": {},
   "outputs": [
    {
     "name": "stdout",
     "output_type": "stream",
     "text": [
      "_________________________________________________________________\n",
      "Layer (type)                 Output Shape              Param #   \n",
      "=================================================================\n",
      "embedding_2 (Embedding)      (None, 70, 200)           20000000  \n",
      "_________________________________________________________________\n",
      "conv1d_4 (Conv1D)            (None, 70, 32)            12832     \n",
      "_________________________________________________________________\n",
      "max_pooling1d_4 (MaxPooling1 (None, 35, 32)            0         \n",
      "_________________________________________________________________\n",
      "dropout_6 (Dropout)          (None, 35, 32)            0         \n",
      "_________________________________________________________________\n",
      "conv1d_5 (Conv1D)            (None, 35, 64)            4160      \n",
      "_________________________________________________________________\n",
      "max_pooling1d_5 (MaxPooling1 (None, 17, 64)            0         \n",
      "_________________________________________________________________\n",
      "dropout_7 (Dropout)          (None, 17, 64)            0         \n",
      "_________________________________________________________________\n",
      "conv1d_6 (Conv1D)            (None, 17, 128)           16512     \n",
      "_________________________________________________________________\n",
      "max_pooling1d_6 (MaxPooling1 (None, 8, 128)            0         \n",
      "_________________________________________________________________\n",
      "dropout_8 (Dropout)          (None, 8, 128)            0         \n",
      "_________________________________________________________________\n",
      "lstm_2 (LSTM)                (None, 8, 50)             35800     \n",
      "_________________________________________________________________\n",
      "dropout_9 (Dropout)          (None, 8, 50)             0         \n",
      "_________________________________________________________________\n",
      "flatten_2 (Flatten)          (None, 400)               0         \n",
      "_________________________________________________________________\n",
      "dense_3 (Dense)              (None, 256)               102656    \n",
      "_________________________________________________________________\n",
      "dropout_10 (Dropout)         (None, 256)               0         \n",
      "_________________________________________________________________\n",
      "dense_4 (Dense)              (None, 3)                 771       \n",
      "=================================================================\n",
      "Total params: 20,172,731\n",
      "Trainable params: 20,172,731\n",
      "Non-trainable params: 0\n",
      "_________________________________________________________________\n"
     ]
    }
   ],
   "source": [
    "model=getModel(100000, 200, embedding_matrix, 70, traina)"
   ]
  },
  {
   "cell_type": "code",
   "execution_count": null,
   "metadata": {},
   "outputs": [],
   "source": [
    "saveModel(model,\"lib/model_glove_eng.json\")"
   ]
  },
  {
   "cell_type": "code",
   "execution_count": null,
   "metadata": {
    "scrolled": true
   },
   "outputs": [
    {
     "name": "stdout",
     "output_type": "stream",
     "text": [
      "Train on 1296757 samples, validate on 324190 samples\n",
      "Epoch 1/5\n",
      "1296757/1296757 [==============================] - 741s 571us/step - loss: 0.5115 - categorical_accuracy: 0.7600 - val_loss: 0.4790 - val_categorical_accuracy: 0.7807\n",
      "\n",
      "Epoch 00001: val_categorical_accuracy improved from -inf to 0.78066, saving model to lib/weights_glove.hdf5\n",
      "Epoch 2/5\n",
      "1296757/1296757 [==============================] - 696s 536us/step - loss: 0.4751 - categorical_accuracy: 0.7822 - val_loss: 0.4731 - val_categorical_accuracy: 0.7815\n",
      "\n",
      "Epoch 00002: val_categorical_accuracy improved from 0.78066 to 0.78150, saving model to lib/weights_glove.hdf5\n",
      "Epoch 3/5\n",
      "1296757/1296757 [==============================] - 701s 541us/step - loss: 0.4608 - categorical_accuracy: 0.7902 - val_loss: 0.4707 - val_categorical_accuracy: 0.7819\n",
      "\n",
      "Epoch 00003: val_categorical_accuracy improved from 0.78150 to 0.78193, saving model to lib/weights_glove.hdf5\n",
      "Epoch 4/5\n",
      "1296757/1296757 [==============================] - 691s 533us/step - loss: 0.4502 - categorical_accuracy: 0.7967 - val_loss: 0.4699 - val_categorical_accuracy: 0.7813\n",
      "\n",
      "Epoch 00004: val_categorical_accuracy did not improve from 0.78193\n",
      "Epoch 5/5\n",
      "1232000/1296757 [===========================>..] - ETA: 1:00 - loss: 0.4420 - categorical_accuracy: 0.8016"
     ]
    }
   ],
   "source": [
    "history=train(model,lanjut, 'lib/weights_glove.hdf5',input_train,target_train,input_val,target_val,ep,bs)"
   ]
  },
  {
   "cell_type": "code",
   "execution_count": null,
   "metadata": {},
   "outputs": [],
   "source": [
    "score('lib/weights_glove.hdf5',input_val,target_val)"
   ]
  },
  {
   "cell_type": "code",
   "execution_count": null,
   "metadata": {},
   "outputs": [],
   "source": [
    "plot(history)"
   ]
  },
  {
   "cell_type": "markdown",
   "metadata": {},
   "source": [
    "## DBOW"
   ]
  },
  {
   "cell_type": "code",
   "execution_count": null,
   "metadata": {},
   "outputs": [],
   "source": [
    "model_ug_cbow = Doc2Vec.load('lib/d2v_dbow_eng')\n",
    "print('loaded')\n",
    "\n",
    "# words embedding\n",
    "embeddings_index = {}\n",
    "for w in model_ug_cbow.wv.vocab.keys():\n",
    "    embeddings_index[w] = model_ug_cbow.wv[w]\n",
    "\n",
    "num_words = 100000\n",
    "embedding_matrix = np.zeros((num_words, 100))\n",
    "for word, i in tokenizer.word_index.items():\n",
    "    if i >= num_words:\n",
    "        continue\n",
    "    embedding_vector = embeddings_index.get(word)\n",
    "    if embedding_vector is not None:\n",
    "        embedding_matrix[i] = embedding_vector\n",
    "print('embed')\n"
   ]
  },
  {
   "cell_type": "code",
   "execution_count": null,
   "metadata": {},
   "outputs": [],
   "source": [
    "model=getModel(num_words, 100, embedding_matrix, 70, traina)"
   ]
  },
  {
   "cell_type": "code",
   "execution_count": null,
   "metadata": {},
   "outputs": [],
   "source": [
    "saveModel(model,\"lib/model_dbow_eng.json\")"
   ]
  },
  {
   "cell_type": "code",
   "execution_count": null,
   "metadata": {
    "scrolled": true
   },
   "outputs": [],
   "source": [
    "history=train(model,lanjut,'lib/weights_dbow.hdf5',input_train,target_train,input_val,target_val,ep,bs)"
   ]
  },
  {
   "cell_type": "code",
   "execution_count": null,
   "metadata": {},
   "outputs": [],
   "source": [
    "score('lib/weights_dbow.hdf5',input_val,target_val)"
   ]
  },
  {
   "cell_type": "code",
   "execution_count": null,
   "metadata": {},
   "outputs": [],
   "source": [
    "plot(history)"
   ]
  },
  {
   "cell_type": "markdown",
   "metadata": {},
   "source": [
    "## DMM"
   ]
  },
  {
   "cell_type": "code",
   "execution_count": null,
   "metadata": {},
   "outputs": [],
   "source": [
    "model_ug_cbow = Doc2Vec.load('lib/d2v_dmm_eng')\n",
    "print('loaded')\n",
    "\n",
    "# words embedding\n",
    "embeddings_index = {}\n",
    "for w in model_ug_cbow.wv.vocab.keys():\n",
    "    embeddings_index[w] = model_ug_cbow.wv[w]\n",
    "\n",
    "num_words = 100000\n",
    "embedding_matrix = np.zeros((num_words, 100))\n",
    "for word, i in tokenizer.word_index.items():\n",
    "    if i >= num_words:\n",
    "        continue\n",
    "    embedding_vector = embeddings_index.get(word)\n",
    "    if embedding_vector is not None:\n",
    "        embedding_matrix[i] = embedding_vector\n",
    "print('embed')\n"
   ]
  },
  {
   "cell_type": "code",
   "execution_count": null,
   "metadata": {},
   "outputs": [],
   "source": [
    "model=getModel(num_words, 100, embedding_matrix, 70, traina)"
   ]
  },
  {
   "cell_type": "code",
   "execution_count": null,
   "metadata": {},
   "outputs": [],
   "source": [
    "saveModel(model,\"lib/model_dmm_eng.json\")"
   ]
  },
  {
   "cell_type": "code",
   "execution_count": null,
   "metadata": {
    "scrolled": true
   },
   "outputs": [],
   "source": [
    "history=train(model,lanjut, 'lib/weights_dmm.hdf5',input_train,target_train,input_val,target_val,ep,bs)"
   ]
  },
  {
   "cell_type": "code",
   "execution_count": null,
   "metadata": {},
   "outputs": [],
   "source": [
    "score('lib/weights_dmm.hdf5',input_val,target_val)"
   ]
  },
  {
   "cell_type": "code",
   "execution_count": null,
   "metadata": {},
   "outputs": [],
   "source": [
    "plot(history)"
   ]
  },
  {
   "cell_type": "markdown",
   "metadata": {},
   "source": [
    "## DMC"
   ]
  },
  {
   "cell_type": "code",
   "execution_count": null,
   "metadata": {},
   "outputs": [],
   "source": [
    "model_ug_cbow = Doc2Vec.load('lib/d2v_dmc_eng')\n",
    "print('loaded')\n",
    "\n",
    "# words embedding\n",
    "embeddings_index = {}\n",
    "for w in model_ug_cbow.wv.vocab.keys():\n",
    "    #embeddings_index[w] =np.append( model_ug_cbow.wv[w],model_ug_sg.wv[w])\n",
    "    embeddings_index[w] = model_ug_cbow.wv[w]\n",
    "\n",
    "num_words = 100000\n",
    "embedding_matrix = np.zeros((num_words, 100))\n",
    "for word, i in tokenizer.word_index.items():\n",
    "    if i >= num_words:\n",
    "        continue\n",
    "    embedding_vector = embeddings_index.get(word)\n",
    "    if embedding_vector is not None:\n",
    "        embedding_matrix[i] = embedding_vector\n",
    "print('embed')"
   ]
  },
  {
   "cell_type": "code",
   "execution_count": null,
   "metadata": {},
   "outputs": [],
   "source": [
    "model=getModel(num_words, 100, embedding_matrix, 70, traina)"
   ]
  },
  {
   "cell_type": "code",
   "execution_count": null,
   "metadata": {},
   "outputs": [],
   "source": [
    "saveModel(model,\"lib/model_dmc_eng.json\")"
   ]
  },
  {
   "cell_type": "code",
   "execution_count": null,
   "metadata": {
    "scrolled": true
   },
   "outputs": [],
   "source": [
    "history=train(model,lanjut, 'lib/weights_dmc.hdf5',input_train,target_train,input_val,target_val,ep,bs)"
   ]
  },
  {
   "cell_type": "code",
   "execution_count": null,
   "metadata": {},
   "outputs": [],
   "source": [
    "score('lib/weights_dmc.hdf5',input_val,target_val)"
   ]
  },
  {
   "cell_type": "code",
   "execution_count": null,
   "metadata": {},
   "outputs": [],
   "source": [
    "plot(history)"
   ]
  },
  {
   "cell_type": "markdown",
   "metadata": {},
   "source": [
    "## DBOW - DMM"
   ]
  },
  {
   "cell_type": "code",
   "execution_count": null,
   "metadata": {},
   "outputs": [],
   "source": [
    "model_ug_cbow = Doc2Vec.load('lib/d2v_dbow_eng')\n",
    "model_ug_sg = Doc2Vec.load('lib/d2v_dmm_eng')\n",
    "print('loaded')\n",
    "\n",
    "# words embedding\n",
    "embeddings_index = {}\n",
    "for w in model_ug_cbow.wv.vocab.keys():\n",
    "    embeddings_index[w] =np.append( model_ug_cbow.wv[w],model_ug_sg.wv[w])\n",
    "    #embeddings_index[w] = model_ug_cbow.wv[w]\n",
    "\n",
    "num_words = 100000\n",
    "embedding_matrix = np.zeros((num_words, 200))\n",
    "for word, i in tokenizer.word_index.items():\n",
    "    if i >= num_words:\n",
    "        continue\n",
    "    embedding_vector = embeddings_index.get(word)\n",
    "    if embedding_vector is not None:\n",
    "        embedding_matrix[i] = embedding_vector\n",
    "print('embed')"
   ]
  },
  {
   "cell_type": "code",
   "execution_count": null,
   "metadata": {},
   "outputs": [],
   "source": [
    "model=getModel(num_words, 200, embedding_matrix, 70, traina)"
   ]
  },
  {
   "cell_type": "code",
   "execution_count": null,
   "metadata": {},
   "outputs": [],
   "source": [
    "saveModel(model,\"lib/model_dbow-dmm_eng.json\")"
   ]
  },
  {
   "cell_type": "code",
   "execution_count": null,
   "metadata": {
    "scrolled": true
   },
   "outputs": [],
   "source": [
    "history=train(model,lanjut, \"lib/weights_dbow-dmm.hdf5\",input_train,target_train,input_val,target_val,ep,bs)"
   ]
  },
  {
   "cell_type": "code",
   "execution_count": null,
   "metadata": {},
   "outputs": [],
   "source": [
    "score(\"lib/weights_dbow-dmm.hdf5\",input_val,target_val)"
   ]
  },
  {
   "cell_type": "code",
   "execution_count": null,
   "metadata": {},
   "outputs": [],
   "source": [
    "plot(history)"
   ]
  },
  {
   "cell_type": "markdown",
   "metadata": {},
   "source": [
    "## DBOW - DMC"
   ]
  },
  {
   "cell_type": "code",
   "execution_count": null,
   "metadata": {},
   "outputs": [],
   "source": [
    "model_ug_cbow = Doc2Vec.load('lib/d2v_dbow_eng')\n",
    "model_ug_sg = Doc2Vec.load('lib/d2v_dmc_eng')\n",
    "print('loaded')\n",
    "\n",
    "# words embedding\n",
    "embeddings_index = {}\n",
    "for w in model_ug_cbow.wv.vocab.keys():\n",
    "    embeddings_index[w] =np.append( model_ug_cbow.wv[w],model_ug_sg.wv[w])\n",
    "    #embeddings_index[w] = model_ug_cbow.wv[w]\n",
    "\n",
    "num_words = 100000\n",
    "embedding_matrix = np.zeros((num_words, 200))\n",
    "for word, i in tokenizer.word_index.items():\n",
    "    if i >= num_words:\n",
    "        continue\n",
    "    embedding_vector = embeddings_index.get(word)\n",
    "    if embedding_vector is not None:\n",
    "        embedding_matrix[i] = embedding_vector\n",
    "print('embed')"
   ]
  },
  {
   "cell_type": "code",
   "execution_count": null,
   "metadata": {},
   "outputs": [],
   "source": [
    "model=getModel(num_words, 200, embedding_matrix, 70, traina)"
   ]
  },
  {
   "cell_type": "code",
   "execution_count": null,
   "metadata": {},
   "outputs": [],
   "source": [
    "saveModel(model,\"lib/model_dbow-dmc_eng.json\")"
   ]
  },
  {
   "cell_type": "code",
   "execution_count": null,
   "metadata": {
    "scrolled": true
   },
   "outputs": [],
   "source": [
    "history=train(model,lanjut, \"lib/weights_dbow-dmc.hdf5\",input_train,target_train,input_val,target_val,ep,bs)"
   ]
  },
  {
   "cell_type": "code",
   "execution_count": null,
   "metadata": {},
   "outputs": [],
   "source": [
    "score(\"lib/weights_dbow-dmc.hdf5\",input_val,target_val)"
   ]
  },
  {
   "cell_type": "code",
   "execution_count": null,
   "metadata": {},
   "outputs": [],
   "source": [
    "plot(history)"
   ]
  },
  {
   "cell_type": "markdown",
   "metadata": {},
   "source": [
    "## DMM - DMC"
   ]
  },
  {
   "cell_type": "code",
   "execution_count": null,
   "metadata": {},
   "outputs": [],
   "source": [
    "model_ug_cbow = Doc2Vec.load('lib/d2v_dmm_eng')\n",
    "model_ug_sg = Doc2Vec.load('lib/d2v_dmc_eng')\n",
    "print('loaded')\n",
    "\n",
    "# words embedding\n",
    "embeddings_index = {}\n",
    "for w in model_ug_cbow.wv.vocab.keys():\n",
    "    embeddings_index[w] =np.append( model_ug_cbow.wv[w],model_ug_sg.wv[w])\n",
    "\n",
    "num_words = 100000\n",
    "embedding_matrix = np.zeros((num_words, 200))\n",
    "for word, i in tokenizer.word_index.items():\n",
    "    if i >= num_words:\n",
    "        continue\n",
    "    embedding_vector = embeddings_index.get(word)\n",
    "    if embedding_vector is not None:\n",
    "        embedding_matrix[i] = embedding_vector\n",
    "print('embed')"
   ]
  },
  {
   "cell_type": "code",
   "execution_count": null,
   "metadata": {},
   "outputs": [],
   "source": [
    "model=getModel(num_words, 200, embedding_matrix, 70, traina)"
   ]
  },
  {
   "cell_type": "code",
   "execution_count": null,
   "metadata": {},
   "outputs": [],
   "source": [
    "saveModel(model,\"lib/model_dmm-dmc_eng.json\")"
   ]
  },
  {
   "cell_type": "code",
   "execution_count": null,
   "metadata": {
    "scrolled": true
   },
   "outputs": [],
   "source": [
    "history=train(model,lanjut, \"lib/weights_dmm-dmc.hdf5\",input_train,target_train,input_val,target_val,ep,bs)"
   ]
  },
  {
   "cell_type": "code",
   "execution_count": null,
   "metadata": {},
   "outputs": [],
   "source": [
    "score(\"lib/weights_dmm-dmc.hdf5\",input_val,target_val)"
   ]
  },
  {
   "cell_type": "code",
   "execution_count": null,
   "metadata": {},
   "outputs": [],
   "source": [
    "plot(history)"
   ]
  },
  {
   "cell_type": "markdown",
   "metadata": {},
   "source": [
    "## DBOW - DMM - DMC"
   ]
  },
  {
   "cell_type": "code",
   "execution_count": null,
   "metadata": {},
   "outputs": [],
   "source": [
    "model_ug_cbow = Doc2Vec.load('lib/d2v_dbow_eng')\n",
    "model_ug_sg = Doc2Vec.load('lib/d2v_dmm_eng')\n",
    "model_ug_sg1 = Doc2Vec.load('lib/d2v_dmc_eng')\n",
    "print('loaded')\n",
    "\n",
    "# words embedding\n",
    "embeddings_index = {}\n",
    "for w in model_ug_cbow.wv.vocab.keys():\n",
    "    embeddings_index[w] =np.append((np.append(model_ug_cbow.wv[w],model_ug_sg.wv[w])),model_ug_sg1.wv[w])\n",
    "    \n",
    "\n",
    "num_words = 100000\n",
    "embedding_matrix = np.zeros((num_words, 300))\n",
    "for word, i in tokenizer.word_index.items():\n",
    "    if i >= num_words:\n",
    "        continue\n",
    "    embedding_vector = embeddings_index.get(word)\n",
    "    if embedding_vector is not None:\n",
    "        embedding_matrix[i] = embedding_vector\n",
    "print('embed')"
   ]
  },
  {
   "cell_type": "code",
   "execution_count": null,
   "metadata": {},
   "outputs": [],
   "source": [
    "model=getModel(num_words, 300, embedding_matrix, 70, traina)"
   ]
  },
  {
   "cell_type": "code",
   "execution_count": null,
   "metadata": {},
   "outputs": [],
   "source": [
    "saveModel(model,\"lib/model_dbow-dmm-dmc_eng.json\")"
   ]
  },
  {
   "cell_type": "code",
   "execution_count": null,
   "metadata": {
    "scrolled": true
   },
   "outputs": [],
   "source": [
    "history=train(model,lanjut, \"lib/weights_dbow-dmm-dmc.hdf5\",input_train,target_train,input_val,target_val,ep,bs)"
   ]
  },
  {
   "cell_type": "code",
   "execution_count": null,
   "metadata": {},
   "outputs": [],
   "source": [
    "score(\"lib/weights_dbow-dmm-dmc.hdf5\",input_val,target_val)"
   ]
  },
  {
   "cell_type": "code",
   "execution_count": null,
   "metadata": {},
   "outputs": [],
   "source": [
    "plot(history)"
   ]
  },
  {
   "cell_type": "code",
   "execution_count": null,
   "metadata": {},
   "outputs": [],
   "source": []
  }
 ],
 "metadata": {
  "kernelspec": {
   "display_name": "Python 3",
   "language": "python",
   "name": "python3"
  },
  "language_info": {
   "codemirror_mode": {
    "name": "ipython",
    "version": 3
   },
   "file_extension": ".py",
   "mimetype": "text/x-python",
   "name": "python",
   "nbconvert_exporter": "python",
   "pygments_lexer": "ipython3",
   "version": "3.6.7"
  }
 },
 "nbformat": 4,
 "nbformat_minor": 2
}
