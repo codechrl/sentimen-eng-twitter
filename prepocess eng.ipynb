{
 "cells": [
  {
   "cell_type": "markdown",
   "metadata": {},
   "source": [
    "# Preprocess Eng"
   ]
  },
  {
   "cell_type": "code",
   "execution_count": null,
   "metadata": {},
   "outputs": [],
   "source": [
    "# import library\n",
    "import re\n",
    "import string\n",
    "import progressbar\n",
    "import numpy as np\n",
    "import pandas as pd\n",
    "from tqdm import tqdm \n",
    "import ipython_genutils\n",
    "from sklearn import utils\n",
    "from bs4 import BeautifulSoup\n",
    "from keras.layers import Flatten\n",
    "from nltk.corpus import stopwords\n",
    "from nltk.stem import PorterStemmer\n",
    "from nltk.tokenize import word_tokenize\n",
    "from nltk.tokenize import WordPunctTokenizer\n",
    "from keras.layers.embeddings import Embedding\n",
    "from keras.preprocessing.text import Tokenizer\n",
    "from gensim.models.doc2vec import TaggedDocument"
   ]
  },
  {
   "cell_type": "markdown",
   "metadata": {},
   "source": [
    "### load file "
   ]
  },
  {
   "cell_type": "code",
   "execution_count": null,
   "metadata": {},
   "outputs": [],
   "source": [
    "#load file\n",
    "# file 1\n",
    "dfct = pd.read_csv('data/clean_tweet.csv',index_col=0)\n",
    "dfct['target']= dfct['target'].map({0:0,4:2})\n",
    "dfct.dropna(inplace=True)\n",
    "dfct.reset_index(drop=True,inplace=True)\n",
    "dfct.info()\n",
    "print()\n",
    "\n",
    "#file 2\n",
    "airlinedf = pd.read_csv('data/airline.csv',encoding='ISO-8859-1')\n",
    "airlinedf['airline_sentiment'] = airlinedf['airline_sentiment'].map({'negative':0,'neutral':1,'positive':2})\n",
    "airlinedf.dropna()\n",
    "airlinedf.reset_index(drop=True,inplace=True)\n",
    "airlinedf.info()\n",
    "print()\n",
    "\n",
    "#file 3\n",
    "debatedf = pd.read_csv('data/debate.csv',encoding='ISO-8859-1')\n",
    "debatedf['sentiment']=debatedf['sentiment'].map({'Negative':0,'Neutral':1,'Positive':2})\n",
    "debatedf.info()"
   ]
  },
  {
   "cell_type": "code",
   "execution_count": null,
   "metadata": {},
   "outputs": [],
   "source": [
    "# gabung data dari file\n",
    "textdf=dfct['text'].astype('str')\n",
    "textair=airlinedf['text'].astype('str')\n",
    "textdebate=debatedf['text'].astype('str')\n",
    "x=pd.concat([textdf,textair,textdebate])\n",
    "x.reset_index(drop=True,inplace=True)\n",
    "\n",
    "targetdf=dfct['target']\n",
    "targetair=airlinedf['airline_sentiment']\n",
    "targetdebate=debatedf['sentiment']\n",
    "y=pd.concat([targetdf,targetair,targetdebate])\n",
    "y.reset_index(drop=True,inplace=True)\n",
    "\n",
    "df=pd.DataFrame({'text':x,'target':y})\n",
    "df.reset_index(drop=True,inplace=True)\n",
    "df.info()"
   ]
  },
  {
   "cell_type": "markdown",
   "metadata": {},
   "source": [
    "### hapus emoji"
   ]
  },
  {
   "cell_type": "code",
   "execution_count": null,
   "metadata": {},
   "outputs": [],
   "source": [
    "def remove_emoji(string):\n",
    "    emoji_pattern = re.compile(\"[\"\n",
    "                           u\"\\U0001F600-\\U0001F64F\"  \n",
    "                           u\"\\U0001F300-\\U0001F5FF\"  \n",
    "                           u\"\\U0001F680-\\U0001F6FF\"  \n",
    "                           u\"\\U0001F1E0-\\U0001F1FF\"  \n",
    "                           u\"\\U00002702-\\U000027B0\"\n",
    "                           u\"\\U000024C2-\\U0001F251\"\n",
    "                           \"]+\", flags=re.UNICODE)\n",
    "    return emoji_pattern.sub(r'', string)"
   ]
  },
  {
   "cell_type": "code",
   "execution_count": null,
   "metadata": {},
   "outputs": [],
   "source": [
    "widgets = [progressbar.Percentage(),progressbar.Bar(),\" Processed : \",progressbar.Counter(),\"  \",progressbar.ETA()]\n",
    "bar = progressbar.ProgressBar(widgets=widgets, max_value=len(df.index))\n",
    "bar.start()\n",
    "\n",
    "t=[]\n",
    "for index,row in bar(df.iterrows()):\n",
    "    t.append(remove_emoji(row['text']))\n",
    "df.text=t"
   ]
  },
  {
   "cell_type": "markdown",
   "metadata": {},
   "source": [
    "### cleaning"
   ]
  },
  {
   "cell_type": "code",
   "execution_count": null,
   "metadata": {},
   "outputs": [],
   "source": [
    "# tweet cleaning\n",
    "tok=WordPunctTokenizer()\n",
    "t=[]\n",
    "for index,row in df.iterrows():\n",
    "    x=row[\"text\"]\n",
    "    # hapus rt\n",
    "    cl = re.sub(r'\\s*RT\\s*@[^:]*:.*', '', x)\n",
    "    cl = re.sub(r'\\s*rt\\s*@[^:]*:.*', '', cl)\n",
    "    # hapus mention\n",
    "    cl = re.sub(r'@[A-Za-z0-9]([^:\\s]+)+', '', cl)\n",
    "    # hapus link\n",
    "    cl = re.sub(r'https?://[A-Za-z0-9./]+', '', cl)\n",
    "    # hapus hashtag\n",
    "    cl = re.sub(r'(?:\\s|^)#[A-Za-z0-9\\-\\.\\_]+(?:\\s|$)', '', cl)\n",
    "    # kata ulang\n",
    "    cl = re.sub(r'\\w*\\d\\w*', '', cl)\n",
    "    cl = re.sub(r'\\b(\\w+)(\\1\\b)+', r'\\1', cl)\n",
    "    # hapus simbol\n",
    "    cl = re.sub(r'[^a-zA-Z]', ' ', cl)\n",
    "    # lower\n",
    "    cl=cl.lower()\n",
    "    # format teks \n",
    "    cl=tok.tokenize(cl)\n",
    "    cl=(\" \".join(cl))\n",
    "    t.append(cl)\n",
    "    #print(cl)\n",
    "df.text=t\n",
    "df.head()"
   ]
  },
  {
   "cell_type": "markdown",
   "metadata": {},
   "source": [
    "### hapus row yg terdapat data kosong"
   ]
  },
  {
   "cell_type": "code",
   "execution_count": null,
   "metadata": {},
   "outputs": [],
   "source": [
    "# hapus data dgn missing value\n",
    "ex=''\n",
    "df=df[df.text != ex]\n",
    "df.reset_index(drop=True,inplace=True)\n",
    "df.info()"
   ]
  },
  {
   "cell_type": "markdown",
   "metadata": {},
   "source": [
    "### hapus stopwords"
   ]
  },
  {
   "cell_type": "code",
   "execution_count": null,
   "metadata": {},
   "outputs": [],
   "source": [
    "# stopwords\n",
    "stopword_ = set(stopwords.words('english'))\n",
    "t=[]\n",
    "c=0\n",
    "for index,row in df.iterrows():\n",
    "    tokens = word_tokenize(row['text'])\n",
    "    result = [i for i in tokens if not i in stopword_]\n",
    "    result=' '.join(result)\n",
    "    t.append(result)\n",
    "    if c%100000==0:\n",
    "        print('data processed : ',c)\n",
    "    c+=1\n",
    "df.text=t\n",
    "df.head()"
   ]
  },
  {
   "cell_type": "markdown",
   "metadata": {},
   "source": [
    "### stemming"
   ]
  },
  {
   "cell_type": "code",
   "execution_count": null,
   "metadata": {},
   "outputs": [],
   "source": [
    "# stemming\n",
    "stemmer= PorterStemmer()\n",
    "t=[]\n",
    "for index,row in df.iterrows():\n",
    "    result=[]\n",
    "    text = word_tokenize(row['text'])\n",
    "    for word in text:\n",
    "        result.append(stemmer.stem(word))\n",
    "    result=' '.join(result) \n",
    "    t.append(result)\n",
    "df.text=t"
   ]
  },
  {
   "cell_type": "markdown",
   "metadata": {},
   "source": [
    "### save file"
   ]
  },
  {
   "cell_type": "code",
   "execution_count": null,
   "metadata": {},
   "outputs": [],
   "source": [
    "# save ke csv\n",
    "df.to_csv('clean_text.csv')"
   ]
  },
  {
   "cell_type": "code",
   "execution_count": null,
   "metadata": {},
   "outputs": [],
   "source": []
  }
 ],
 "metadata": {
  "kernelspec": {
   "display_name": "Python 3",
   "language": "python",
   "name": "python3"
  },
  "language_info": {
   "codemirror_mode": {
    "name": "ipython",
    "version": 3
   },
   "file_extension": ".py",
   "mimetype": "text/x-python",
   "name": "python",
   "nbconvert_exporter": "python",
   "pygments_lexer": "ipython3",
   "version": "3.6.8"
  }
 },
 "nbformat": 4,
 "nbformat_minor": 2
}
